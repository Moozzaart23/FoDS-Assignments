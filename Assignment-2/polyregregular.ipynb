{
 "cells": [
  {
   "cell_type": "code",
   "execution_count": 6,
   "metadata": {},
   "outputs": [],
   "source": [
    "import numpy as np\n",
    "import pandas as pd\n",
    "from pandas import *\n",
    "import matplotlib.pyplot as plt\n",
    "from mpl_toolkits.mplot3d import axes3d\n",
    "from mpl_toolkits import mplot3d\n",
    "from sklearn.metrics import r2_score,mean_squared_error"
   ]
  },
  {
   "cell_type": "code",
   "execution_count": 7,
   "metadata": {},
   "outputs": [],
   "source": [
    "def normal(X):    \n",
    "    return (X-X.mean(axis=0))/X.std()    "
   ]
  },
  {
   "cell_type": "code",
   "execution_count": 8,
   "metadata": {},
   "outputs": [],
   "source": [
    "df = pd.read_csv(\"C:/Users/PAPAM/Desktop/FODS/3D_spatial_network.txt\",sep=\",\",header=None)\n",
    "t=df.iloc[:,3]\n",
    "t.head()\n",
    "t=np.c_[t]\n",
    "X=df.iloc[:,1:3]\n",
    "X.head()\n",
    "X=np.c_[X]\n",
    "X=normal(X)\n",
    "t=normal(t)\n",
    "# X= np.c_[np.ones((len(X), 1)), X]\n"
   ]
  },
  {
   "cell_type": "code",
   "execution_count": 37,
   "metadata": {},
   "outputs": [],
   "source": [
    "class polyreg:\n",
    "    def __init__(self,x,st,regf,eta=0.01,n=500,sr=1e-10):\n",
    "        self.n=n\n",
    "        self.eta=eta\n",
    "        self.sr= sr\n",
    "        self.newx = np.empty(shape=[x.shape[0],0])\n",
    "        self.st=st\n",
    "        self.regf=regf\n",
    "    def polycoeff(self,deg=1):\n",
    "        self.pow =[] \n",
    "        for i in range(deg+1):\n",
    "            for j in range(i+1):\n",
    "                self.pow.append([i-j,j])\n",
    "        print(self.pow)                    \n",
    "    def buildpoly(self,x,y):\n",
    "#         self.newx = np.empty(shape=[x.shape[0],0])\n",
    "        m = x.shape[0]\n",
    "        for j in range(len(self.pow)):\n",
    "            temp = []\n",
    "            for i in range(m):\n",
    "                x1 = (x[i][0])**(self.pow[j][0])\n",
    "                x2 = (x[i][1])**(self.pow[j][1])\n",
    "                temp.append([x1*x2])\n",
    "            matx=np.array(temp)\n",
    "            matx=np.c_[matx]\n",
    "            self.newx = np.append(self.newx,matx,axis=1)\n",
    "            self.newx=np.c_[self.newx]\n",
    "        print(self.newx.shape)\n",
    "    def polyfit(self,x,y):\n",
    "        m = x.shape[0]\n",
    "        self.cost_ = []\n",
    "        self.rmse_ = []\n",
    "        self.r2_ = []\n",
    "        self.w_ = np.random.randn(len(self.pow), 1)\n",
    "        for i in range(self.n):\n",
    "            y_pred = np.dot(self.newx,self.w_)\n",
    "            residuals = y_pred - y\n",
    "            gradient_vector = np.dot(self.newx.T, residuals)\n",
    "            k=0\n",
    "            if(self.st==\"l2\"):\n",
    "                k=(self.eta / m) * gradient_vector+(self.regf*self.w_*(self.eta))\n",
    "            else:\n",
    "                k=(self.eta / m) * gradient_vector+(self.regf*np.sign(self.w_)*(self.eta))\n",
    "            if np.linalg.norm(k)<self.sr:\n",
    "                break\n",
    "            self.w_ -= k\n",
    "            cost=0\n",
    "            if(self.st==\"l2\"):\n",
    "                cost = np.sum((residuals ** 2)) / (2 * m) + (self.regf/2)*np.sum(np.dot(self.w_,self.w_.T))     \n",
    "            else:\n",
    "                cost = np.sum((residuals ** 2)) / (2 * m) + (self.regf)*np.sum(abs(self.w_))\n",
    "#             self.w_ -= (self.eta / m) * gradient_vector\n",
    "            cost = np.sum((residuals ** 2)) / (2 * m)            \n",
    "            self.cost_.append(cost)\n",
    "            self.rmse_.append((cost*2)**(0.5))\n",
    "            ssr = np.sum((residuals)**2)\n",
    "            sst = np.sum((y - np.mean(y))**2)\n",
    "            self.r2_.append(1 - (ssr/sst))\n",
    "    def predict(self,x):\n",
    "        m = x.shape[0]\n",
    "        predx = np.empty(shape=[x.shape[0],0])\n",
    "        for j in range(len(self.pow)):\n",
    "            temp = []\n",
    "            for i in range(m):\n",
    "                x1 = (x[i][0])**(A.pow[j][0])\n",
    "                x2 = (x[i][1])**(A.pow[j][1])\n",
    "                temp.append([x1*x2])\n",
    "            matx=np.array(temp)\n",
    "            matx=np.c_[matx]\n",
    "            predx = np.append(predx,matx,axis=1)\n",
    "            predx=np.c_[predx]\n",
    "        y_pred = np.dot(predx,self.w_)\n",
    "        return y_pred"
   ]
  },
  {
   "cell_type": "code",
   "execution_count": 38,
   "metadata": {},
   "outputs": [],
   "source": [
    "A =polyreg(X,\"l1\",0.1,0.01,1000) "
   ]
  },
  {
   "cell_type": "code",
   "execution_count": 39,
   "metadata": {},
   "outputs": [
    {
     "name": "stdout",
     "output_type": "stream",
     "text": [
      "[[0, 0], [1, 0], [0, 1], [2, 0], [1, 1], [0, 2], [3, 0], [2, 1], [1, 2], [0, 3], [4, 0], [3, 1], [2, 2], [1, 3], [0, 4], [5, 0], [4, 1], [3, 2], [2, 3], [1, 4], [0, 5], [6, 0], [5, 1], [4, 2], [3, 3], [2, 4], [1, 5], [0, 6]]\n"
     ]
    }
   ],
   "source": [
    "A.polycoeff(6)"
   ]
  },
  {
   "cell_type": "code",
   "execution_count": 40,
   "metadata": {},
   "outputs": [
    {
     "name": "stdout",
     "output_type": "stream",
     "text": [
      "(434874, 1)\n",
      "(434874, 2)\n",
      "(434874, 3)\n",
      "(434874, 4)\n",
      "(434874, 5)\n",
      "(434874, 6)\n",
      "(434874, 7)\n",
      "(434874, 8)\n",
      "(434874, 9)\n",
      "(434874, 10)\n",
      "(434874, 11)\n",
      "(434874, 12)\n",
      "(434874, 13)\n",
      "(434874, 14)\n",
      "(434874, 15)\n",
      "(434874, 16)\n",
      "(434874, 17)\n",
      "(434874, 18)\n",
      "(434874, 19)\n",
      "(434874, 20)\n",
      "(434874, 21)\n",
      "(434874, 22)\n",
      "(434874, 23)\n",
      "(434874, 24)\n",
      "(434874, 25)\n",
      "(434874, 26)\n",
      "(434874, 27)\n",
      "(434874, 28)\n"
     ]
    }
   ],
   "source": [
    "A.buildpoly(X,t)"
   ]
  },
  {
   "cell_type": "code",
   "execution_count": 41,
   "metadata": {},
   "outputs": [],
   "source": [
    "A.polyfit(X,t)"
   ]
  },
  {
   "cell_type": "code",
   "execution_count": 42,
   "metadata": {},
   "outputs": [
    {
     "data": {
      "text/plain": [
       "array([[ 8.16877456e-04],\n",
       "       [-3.67457318e-04],\n",
       "       [ 9.87655056e-01],\n",
       "       [-3.58834568e-01],\n",
       "       [-5.80428950e-04],\n",
       "       [-3.51278623e-04],\n",
       "       [ 7.54481442e-04],\n",
       "       [-6.08643984e-04],\n",
       "       [-9.76764576e-04],\n",
       "       [ 1.48157770e-01],\n",
       "       [ 5.09701078e-04],\n",
       "       [ 1.31996747e-05],\n",
       "       [-9.57704656e-04],\n",
       "       [ 7.24233560e-04],\n",
       "       [ 1.63615847e+00],\n",
       "       [ 4.19789581e-04],\n",
       "       [-6.73785244e-05],\n",
       "       [-5.84507962e-04],\n",
       "       [ 1.23627806e-04],\n",
       "       [ 6.86103205e-04],\n",
       "       [ 1.33226859e-04],\n",
       "       [ 2.09886650e-01],\n",
       "       [-3.47713975e-01],\n",
       "       [ 9.28173321e-04],\n",
       "       [ 6.32866181e-04],\n",
       "       [-1.30193267e-04],\n",
       "       [-3.90335854e-04],\n",
       "       [ 3.92958183e-04]])"
      ]
     },
     "execution_count": 42,
     "metadata": {},
     "output_type": "execute_result"
    }
   ],
   "source": [
    "A.w_"
   ]
  },
  {
   "cell_type": "code",
   "execution_count": 43,
   "metadata": {},
   "outputs": [
    {
     "data": {
      "text/plain": [
       "0.5012807765117326"
      ]
     },
     "execution_count": 43,
     "metadata": {},
     "output_type": "execute_result"
    }
   ],
   "source": [
    "A.cost_[-1]"
   ]
  },
  {
   "cell_type": "code",
   "execution_count": 44,
   "metadata": {},
   "outputs": [
    {
     "data": {
      "text/plain": [
       "1.001279957366303"
      ]
     },
     "execution_count": 44,
     "metadata": {},
     "output_type": "execute_result"
    }
   ],
   "source": [
    "A.rmse_[-1]"
   ]
  },
  {
   "cell_type": "code",
   "execution_count": 45,
   "metadata": {},
   "outputs": [
    {
     "data": {
      "text/plain": [
       "-0.0025615530234646133"
      ]
     },
     "execution_count": 45,
     "metadata": {},
     "output_type": "execute_result"
    }
   ],
   "source": [
    "A.r2_[-1]"
   ]
  },
  {
   "cell_type": "code",
   "execution_count": 46,
   "metadata": {},
   "outputs": [],
   "source": [
    "y_pred=A.predict(X)"
   ]
  },
  {
   "cell_type": "code",
   "execution_count": 47,
   "metadata": {},
   "outputs": [
    {
     "data": {
      "text/plain": [
       "array([[-0.01357163],\n",
       "       [-0.01357969],\n",
       "       [-0.01358511],\n",
       "       ...,\n",
       "       [ 0.01811817],\n",
       "       [ 0.0179755 ],\n",
       "       [ 0.01799015]])"
      ]
     },
     "execution_count": 47,
     "metadata": {},
     "output_type": "execute_result"
    }
   ],
   "source": [
    "y_pred"
   ]
  },
  {
   "cell_type": "code",
   "execution_count": 52,
   "metadata": {},
   "outputs": [
    {
     "data": {
      "image/png": "[encoded data removed]",
      "text/plain": [
       "<Figure size 1008x576 with 1 Axes>"
      ]
     },
     "metadata": {
      "needs_background": "light"
     },
     "output_type": "display_data"
    }
   ],
   "source": [
    "plt.figure(figsize=(14,8))\n",
    "plt.plot(range(len(A.cost_)),A.cost_)\n",
    "plt.xlabel('iterations')\n",
    "plt.ylabel('cost')\n",
    "plt.show()"
   ]
  },
  {
   "cell_type": "code",
   "execution_count": 53,
   "metadata": {},
   "outputs": [],
   "source": [
    "B =polyreg(X,\"l2\",0.1,0.01,1000)"
   ]
  },
  {
   "cell_type": "code",
   "execution_count": 54,
   "metadata": {},
   "outputs": [
    {
     "name": "stdout",
     "output_type": "stream",
     "text": [
      "[[0, 0], [1, 0], [0, 1], [2, 0], [1, 1], [0, 2], [3, 0], [2, 1], [1, 2], [0, 3], [4, 0], [3, 1], [2, 2], [1, 3], [0, 4], [5, 0], [4, 1], [3, 2], [2, 3], [1, 4], [0, 5], [6, 0], [5, 1], [4, 2], [3, 3], [2, 4], [1, 5], [0, 6]]\n"
     ]
    }
   ],
   "source": [
    "B.polycoeff(6)"
   ]
  },
  {
   "cell_type": "code",
   "execution_count": 55,
   "metadata": {},
   "outputs": [
    {
     "name": "stdout",
     "output_type": "stream",
     "text": [
      "(434874, 1)\n",
      "(434874, 2)\n",
      "(434874, 3)\n",
      "(434874, 4)\n",
      "(434874, 5)\n",
      "(434874, 6)\n",
      "(434874, 7)\n",
      "(434874, 8)\n",
      "(434874, 9)\n",
      "(434874, 10)\n",
      "(434874, 11)\n",
      "(434874, 12)\n",
      "(434874, 13)\n",
      "(434874, 14)\n",
      "(434874, 15)\n",
      "(434874, 16)\n",
      "(434874, 17)\n",
      "(434874, 18)\n",
      "(434874, 19)\n",
      "(434874, 20)\n",
      "(434874, 21)\n",
      "(434874, 22)\n",
      "(434874, 23)\n",
      "(434874, 24)\n",
      "(434874, 25)\n",
      "(434874, 26)\n",
      "(434874, 27)\n",
      "(434874, 28)\n"
     ]
    }
   ],
   "source": [
    "B.buildpoly(X,t)"
   ]
  },
  {
   "cell_type": "code",
   "execution_count": 57,
   "metadata": {},
   "outputs": [],
   "source": [
    "B.polyfit(X,t)"
   ]
  },
  {
   "cell_type": "code",
   "execution_count": 58,
   "metadata": {},
   "outputs": [
    {
     "data": {
      "text/plain": [
       "array([[-1.74028116e-04],\n",
       "       [-6.54948640e-02],\n",
       "       [ 2.29864233e-01],\n",
       "       [ 1.75712084e-01],\n",
       "       [ 2.30979060e-01],\n",
       "       [-8.92777099e-02],\n",
       "       [-4.04536577e-01],\n",
       "       [ 5.15100676e-03],\n",
       "       [ 1.52953203e-01],\n",
       "       [-4.07776124e-01],\n",
       "       [-2.89030521e-01],\n",
       "       [-5.70186403e-01],\n",
       "       [-2.86439457e-01],\n",
       "       [ 2.81310081e-01],\n",
       "       [-2.11716133e-01],\n",
       "       [-4.52909731e-01],\n",
       "       [ 1.23702806e-01],\n",
       "       [-1.71640944e-01],\n",
       "       [ 2.08801125e-01],\n",
       "       [-5.69750805e-01],\n",
       "       [ 3.06026177e-01],\n",
       "       [ 3.02590591e-01],\n",
       "       [ 6.93066633e-01],\n",
       "       [-6.26595963e-02],\n",
       "       [-3.15318697e-01],\n",
       "       [ 3.23967485e-01],\n",
       "       [ 3.15024685e-01],\n",
       "       [ 2.55012227e-01]])"
      ]
     },
     "execution_count": 58,
     "metadata": {},
     "output_type": "execute_result"
    }
   ],
   "source": [
    "B.w_"
   ]
  },
  {
   "cell_type": "code",
   "execution_count": 60,
   "metadata": {},
   "outputs": [
    {
     "data": {
      "text/plain": [
       "0.5004141508079885"
      ]
     },
     "execution_count": 60,
     "metadata": {},
     "output_type": "execute_result"
    }
   ],
   "source": [
    "B.cost_[-1]"
   ]
  },
  {
   "cell_type": "code",
   "execution_count": 61,
   "metadata": {},
   "outputs": [
    {
     "data": {
      "text/plain": [
       "1.000414065083042"
      ]
     },
     "execution_count": 61,
     "metadata": {},
     "output_type": "execute_result"
    }
   ],
   "source": [
    "B.rmse_[-1]"
   ]
  },
  {
   "cell_type": "code",
   "execution_count": 62,
   "metadata": {},
   "outputs": [
    {
     "data": {
      "text/plain": [
       "-0.0008283016159762457"
      ]
     },
     "execution_count": 62,
     "metadata": {},
     "output_type": "execute_result"
    }
   ],
   "source": [
    "B.r2_[-1]"
   ]
  },
  {
   "cell_type": "code",
   "execution_count": 63,
   "metadata": {},
   "outputs": [],
   "source": [
    "y_pred2=B.predict(X)"
   ]
  },
  {
   "cell_type": "code",
   "execution_count": 64,
   "metadata": {},
   "outputs": [
    {
     "data": {
      "image/png": "[encoded data removed]",
      "text/plain": [
       "<Figure size 1008x576 with 1 Axes>"
      ]
     },
     "metadata": {
      "needs_background": "light"
     },
     "output_type": "display_data"
    }
   ],
   "source": [
    "plt.figure(figsize=(14,8))\n",
    "plt.plot(range(len(B.cost_)),B.cost_)\n",
    "plt.xlabel('iterations')\n",
    "plt.ylabel('cost')\n",
    "plt.show()"
   ]
  },
  {
   "cell_type": "code",
   "execution_count": null,
   "metadata": {},
   "outputs": [],
   "source": []
  }
 ],
 "metadata": {
  "kernelspec": {
   "display_name": "Python 3",
   "language": "python",
   "name": "python3"
  },
  "language_info": {
   "codemirror_mode": {
    "name": "ipython",
    "version": 3
   },
   "file_extension": ".py",
   "mimetype": "text/x-python",
   "name": "python",
   "nbconvert_exporter": "python",
   "pygments_lexer": "ipython3",
   "version": "3.7.3"
  }
 },
 "nbformat": 4,
 "nbformat_minor": 2
}
