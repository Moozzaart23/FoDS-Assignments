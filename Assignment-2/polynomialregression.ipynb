{
 "cells": [
  {
   "cell_type": "code",
   "execution_count": 7,
   "metadata": {},
   "outputs": [],
   "source": [
    "import numpy as np\n",
    "import pandas as pd\n",
    "from pandas import *\n",
    "import matplotlib.pyplot as plt\n",
    "from mpl_toolkits.mplot3d import axes3d\n",
    "from mpl_toolkits import mplot3d\n",
    "from sklearn.metrics import r2_score,mean_squared_error"
   ]
  },
  {
   "cell_type": "code",
   "execution_count": 8,
   "metadata": {},
   "outputs": [],
   "source": [
    "def normal(X):    \n",
    "    return (X-X.mean(axis=0))/X.std(axis=0)    "
   ]
  },
  {
   "cell_type": "code",
   "execution_count": 9,
   "metadata": {},
   "outputs": [],
   "source": [
    "df = pd.read_csv(\"C:/Users/PAPAM/Desktop/FODS/3D_spatial_network.txt\",sep=\",\",header=None)\n",
    "t=df.iloc[:,3]\n",
    "t.head()\n",
    "t=np.c_[t]\n",
    "X=df.iloc[:,1:3]\n",
    "X.head()\n",
    "X=np.c_[X]\n",
    "X=normal(X)\n",
    "t=normal(t)\n",
    "# X= np.c_[np.ones((len(X), 1)), X]"
   ]
  },
  {
   "cell_type": "code",
   "execution_count": 10,
   "metadata": {},
   "outputs": [],
   "source": [
    "class polyreg:\n",
    "    def __init__(self,x,eta=0.01,n=500):\n",
    "        self.n=n\n",
    "        self.eta=eta\n",
    "        self.newx = np.empty(shape=[x.shape[0],0])\n",
    "    def polycoeff(self,deg=1):\n",
    "        self.pow =[] \n",
    "        for i in range(deg+1):\n",
    "            for j in range(i+1):\n",
    "                self.pow.append([i-j,j])\n",
    "        print(self.pow)                    \n",
    "    def buildpoly(self,x,y):\n",
    "        m = x.shape[0]\n",
    "        for j in range(len(self.pow)):\n",
    "            temp = []\n",
    "            for i in range(m):\n",
    "                x1 = (x[i][0])**(self.pow[j][0])\n",
    "                x2 = (x[i][1])**(self.pow[j][1])\n",
    "                temp.append([x1*x2])\n",
    "            matx=np.array(temp)\n",
    "            matx=np.c_[matx]\n",
    "            self.newx = np.append(self.newx,matx,axis=1)\n",
    "            self.newx=np.c_[self.newx]\n",
    "        print(self.newx)\n",
    "        print(self.newx.shape)\n",
    "    def polyfit(self,x,y):\n",
    "        m = x.shape[0]\n",
    "        self.cost_ = []\n",
    "        self.rmse_ = []\n",
    "        self.r2_ = []\n",
    "        self.w_ = np.random.randn(len(self.pow), 1)\n",
    "        for i in range(self.n):\n",
    "            y_pred = np.dot(self.newx,self.w_)\n",
    "            residuals = y_pred - y\n",
    "            gradient_vector = np.dot(self.newx.T, residuals)\n",
    "            self.w_ -= (self.eta / m) * gradient_vector\n",
    "            cost = np.sum((residuals ** 2)) / (2 * m)            \n",
    "            self.cost_.append(cost)\n",
    "            self.rmse_.append((cost*2)**(0.5))\n",
    "            ssr = np.sum((residuals)**2)\n",
    "            sst = np.sum((y - np.mean(y))**2)\n",
    "            self.r2_.append(1 - (ssr/sst))\n",
    "    def predict(self,x):\n",
    "        m = x.shape[0]\n",
    "        predx = np.empty(shape=[x.shape[0],0])\n",
    "        for j in range(len(self.pow)):\n",
    "            temp = []\n",
    "            for i in range(m):\n",
    "                x1 = (x[i][0])**(A.pow[j][0])\n",
    "                x2 = (x[i][1])**(A.pow[j][1])\n",
    "                temp.append([x1*x2])\n",
    "            matx=np.array(temp)\n",
    "            matx=np.c_[matx]\n",
    "            predx = np.append(predx,matx,axis=1)\n",
    "            predx=np.c_[predx]\n",
    "        y_pred = np.dot(predx,self.w_)\n",
    "        return y_pred"
   ]
  },
  {
   "cell_type": "code",
   "execution_count": 11,
   "metadata": {},
   "outputs": [],
   "source": [
    "A =polyreg(X,0.01,1000) "
   ]
  },
  {
   "cell_type": "code",
   "execution_count": 12,
   "metadata": {},
   "outputs": [
    {
     "name": "stdout",
     "output_type": "stream",
     "text": [
      "[[0, 0], [1, 0], [0, 1]]\n"
     ]
    }
   ],
   "source": [
    "A.polycoeff(1)"
   ]
  },
  {
   "cell_type": "code",
   "execution_count": 13,
   "metadata": {},
   "outputs": [
    {
     "name": "stdout",
     "output_type": "stream",
     "text": [
      "[[ 1.         -0.60889267 -1.18448203]\n",
      " [ 1.         -0.60835102 -1.18516326]\n",
      " [ 1.         -0.60777702 -1.18562616]\n",
      " ...\n",
      " [ 1.          0.32386076  1.43541988]\n",
      " [ 1.          0.33736076  1.42380211]\n",
      " [ 1.          0.33731693  1.42501463]]\n",
      "(434874, 3)\n"
     ]
    }
   ],
   "source": [
    "A.buildpoly(X,t)"
   ]
  },
  {
   "cell_type": "code",
   "execution_count": 14,
   "metadata": {},
   "outputs": [],
   "source": [
    "A.polyfit(X,t)"
   ]
  },
  {
   "cell_type": "code",
   "execution_count": 15,
   "metadata": {},
   "outputs": [
    {
     "data": {
      "text/plain": [
       "array([[ 8.81151691e-06],\n",
       "       [ 1.49784457e-01],\n",
       "       [-1.90030153e-01]])"
      ]
     },
     "execution_count": 15,
     "metadata": {},
     "output_type": "execute_result"
    }
   ],
   "source": [
    "A.w_"
   ]
  },
  {
   "cell_type": "code",
   "execution_count": 16,
   "metadata": {},
   "outputs": [
    {
     "data": {
      "text/plain": [
       "0.48677336124857473"
      ]
     },
     "execution_count": 16,
     "metadata": {},
     "output_type": "execute_result"
    }
   ],
   "source": [
    "A.cost_[-1]"
   ]
  },
  {
   "cell_type": "code",
   "execution_count": 17,
   "metadata": {},
   "outputs": [
    {
     "data": {
      "text/plain": [
       "0.986684712812127"
      ]
     },
     "execution_count": 17,
     "metadata": {},
     "output_type": "execute_result"
    }
   ],
   "source": [
    "A.rmse_[-1]"
   ]
  },
  {
   "cell_type": "code",
   "execution_count": 18,
   "metadata": {},
   "outputs": [
    {
     "data": {
      "text/plain": [
       "0.02645327750285098"
      ]
     },
     "execution_count": 18,
     "metadata": {},
     "output_type": "execute_result"
    }
   ],
   "source": [
    "A.r2_[-1]"
   ]
  },
  {
   "cell_type": "code",
   "execution_count": 19,
   "metadata": {},
   "outputs": [],
   "source": [
    "y_pred=A.predict(X)"
   ]
  },
  {
   "cell_type": "code",
   "execution_count": 20,
   "metadata": {},
   "outputs": [
    {
     "data": {
      "text/plain": [
       "array([[ 0.13389346],\n",
       "       [ 0.13410404],\n",
       "       [ 0.13427798],\n",
       "       ...,\n",
       "       [-0.22425494],\n",
       "       [-0.22002512],\n",
       "       [-0.2202621 ]])"
      ]
     },
     "execution_count": 20,
     "metadata": {},
     "output_type": "execute_result"
    }
   ],
   "source": [
    "y_pred"
   ]
  },
  {
   "cell_type": "code",
   "execution_count": null,
   "metadata": {},
   "outputs": [],
   "source": []
  }
 ],
 "metadata": {
  "kernelspec": {
   "display_name": "Python 3",
   "language": "python",
   "name": "python3"
  },
  "language_info": {
   "codemirror_mode": {
    "name": "ipython",
    "version": 3
   },
   "file_extension": ".py",
   "mimetype": "text/x-python",
   "name": "python",
   "nbconvert_exporter": "python",
   "pygments_lexer": "ipython3",
   "version": "3.7.3"
  }
 },
 "nbformat": 4,
 "nbformat_minor": 2
}
